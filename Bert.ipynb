{
 "cells": [
  {
   "cell_type": "code",
   "id": "initial_id",
   "metadata": {
    "collapsed": true,
    "ExecuteTime": {
     "end_time": "2025-03-19T13:55:54.515094Z",
     "start_time": "2025-03-19T13:55:54.511187Z"
    }
   },
   "source": [
    "import re\n",
    "import math\n",
    "import torch\n",
    "import numpy as np\n",
    "from random import *\n",
    "import torch.nn as nn\n",
    "import torch.optim as optim\n",
    "import torch.utils.data as Data"
   ],
   "outputs": [],
   "execution_count": 3
  },
  {
   "metadata": {},
   "cell_type": "markdown",
   "source": "# 1.准备数据集\n",
   "id": "6c457d2a68faad17"
  },
  {
   "metadata": {
    "ExecuteTime": {
     "end_time": "2025-03-19T13:55:56.383008Z",
     "start_time": "2025-03-19T13:55:56.374959Z"
    }
   },
   "cell_type": "code",
   "source": [
    "text = (\n",
    "    'Hello, how are you? I am Romeo.\\n' # R\n",
    "    'Hello, Romeo My name is Juliet. Nice to meet you.\\n' # J\n",
    "    'Nice meet you too. How are you today?\\n' # R\n",
    "    'Great. My baseball team won the competition.\\n' # J\n",
    "    'Oh Congratulations, Juliet\\n' # R\n",
    "    'Thank you Romeo\\n' # J\n",
    "    'Where are you going today?\\n' # R\n",
    "    'I am going shopping. What about you?\\n' # J\n",
    "    'I am going to visit my grandmother. she is not very well' # R\n",
    ")# 这是一段手动输入的对话\n",
    "sentences = re.sub(\"[.,!?\\\\-]\", '', text.lower()).split('\\n') # 填充 '.', ',', '?', '!'，无用的东西\n",
    "word_list = list(set(\" \".join(sentences).split())) # ['hello', 'how', 'are', 'you',...]这段代码的作用是处理字符串 sentences，首先将其中的句子合并为一个字符串，然后按空格分词，并返回一个不重复的单词集合，集合具有去重性\n",
    "word2idx = {'[PAD]' : 0, '[CLS]' : 1, '[SEP]' : 2, '[MASK]' : 3}# 设置词典对照\n",
    "for i, w in enumerate(word_list):# 为词表里的每一个词进行编码，enumerate() 是 Python 内建的一个函数，它将一个可迭代对象（比如列表、元组、字符串等）转换为一个可枚举的对象，返回的是一个 元组，其中包含了元素的索引和元素本身\n",
    "    # w就是每个单词\n",
    "    word2idx[w] = i + 4 # 为每个元素进行对应编码，+4是因为前面已经有4个值进行编码了\n",
    "idx2word = {i: w for i, w in enumerate(word2idx)}# 构造键值对集合\n",
    "vocab_size = len(word2idx)# 获取词表的长度\n",
    "\n",
    "token_list = list()# 创建list\n",
    "for sentence in sentences:# 遍历每一句话\n",
    "    arr = [word2idx[s] for s in sentence.split()]# 对每一句话进行编码，即返回一句话中每个单词对应的索引\n",
    "    token_list.append(arr)# 添加\n",
    "print(token_list)# Embedding完成啦"
   ],
   "id": "5661ea07a885fc11",
   "outputs": [
    {
     "name": "stdout",
     "output_type": "stream",
     "text": [
      "[[10, 7, 14, 32, 38, 29, 21], [10, 21, 35, 9, 13, 22, 37, 12, 39, 32], [37, 39, 32, 5, 7, 14, 32, 30], [16, 35, 4, 11, 15, 26, 33], [19, 36, 22], [31, 32, 21], [8, 14, 32, 27, 30], [38, 29, 27, 18, 6, 20, 32], [38, 29, 27, 12, 28, 35, 34, 24, 13, 23, 25, 17]]\n"
     ]
    }
   ],
   "execution_count": 4
  },
  {
   "metadata": {},
   "cell_type": "markdown",
   "source": [
    "# 2.模型参数\n",
    "maxlen 表示同一个 batch 中的所有句子都由 30 个 token 组成，不够的补 PAD（这里我实现的方式比较粗暴，直接固定所有 batch 中的所有句子都为 30）\n",
    "max_pred 表示最多需要预测多少个单词，即 BERT 中的完形填空任务\n",
    "n_layers 表示 Encoder Layer 的数量\n",
    "d_model 表示 Token Embeddings、Segment Embeddings、Position Embeddings 的维度\n",
    "d_ff 表示 Encoder Layer 中全连接层的维度\n",
    "n_segments 表示 Decoder input 由几句话组成"
   ],
   "id": "330a22dedcde6d51"
  },
  {
   "metadata": {
    "ExecuteTime": {
     "end_time": "2025-03-19T13:55:59.248503Z",
     "start_time": "2025-03-19T13:55:59.244556Z"
    }
   },
   "cell_type": "code",
   "source": [
    "# BERT Parameters\n",
    "maxlen = 30\n",
    "batch_size = 6\n",
    "max_pred = 5 # max tokens of prediction\n",
    "n_layers = 6\n",
    "n_heads = 12\n",
    "d_model = 768\n",
    "d_ff = 768*4 # 4*d_model, FeedForward dimension\n",
    "d_k = d_v = 64  # dimension of K(=Q), V\n",
    "n_segments = 2"
   ],
   "id": "ade4465fe0884f72",
   "outputs": [],
   "execution_count": 5
  },
  {
   "metadata": {},
   "cell_type": "markdown",
   "source": [
    "# 3.数据预处理\n",
    "这里就运用了泛用的两个预训练任务"
   ],
   "id": "d55c1818cf958611"
  },
  {
   "metadata": {
    "ExecuteTime": {
     "end_time": "2025-03-19T13:56:01.134829Z",
     "start_time": "2025-03-19T13:56:01.122379Z"
    }
   },
   "cell_type": "code",
   "source": [
    "def make_data():\n",
    "    batch = []\n",
    "    positive = negative = 0\n",
    "    while positive != batch_size/2 or negative != batch_size/2:# 一半处理一半不处理\n",
    "        tokens_a_index, tokens_b_index = randrange(len(sentences)), randrange(len(sentences)) # 都是在句子列表中随机一个索引，即随机抽一个句子，即一共抽两个句子\n",
    "        tokens_a, tokens_b = token_list[tokens_a_index], token_list[tokens_b_index]# 获取这句话的Embedding\n",
    "        input_ids = [word2idx['[CLS]']] + tokens_a + [word2idx['[SEP]']] + tokens_b + [word2idx['[SEP]']]# 做一个拼接，其实就是下一句预测任务的输入\n",
    "        segment_ids = [0] * (1 + len(tokens_a) + 1) + [1] * (len(tokens_b) + 1)# 构造一个列表，第一句话的元素全是0，第二句话的元素全是1\n",
    "\n",
    "        # MASK LM 掩码预训练任务\n",
    "        n_pred =  min(max_pred, max(1, int(len(input_ids) * 0.15))) # 15 % of tokens in one sentence，限制预测数量的区间，基本上占输入的百分之15\n",
    "        cand_maked_pos = [i for i, token in enumerate(input_ids)\n",
    "                          if token != word2idx['[CLS]'] and token != word2idx['[SEP]']] # candidate masked position这段代码的目的是筛选出 input_ids 中除了 [CLS] 和 [SEP] 外的其他所有 token 的索引，并返回这些索引的列表。\n",
    "        shuffle(cand_maked_pos)# 随机打乱这些索引\n",
    "        masked_tokens, masked_pos = [], []# 创建两个空列表\n",
    "        for pos in cand_maked_pos[:n_pred]:# 遍历这些编码，不超过最大数量\n",
    "            masked_pos.append(pos)# 添加这个词的位置\n",
    "            masked_tokens.append(input_ids[pos])# 添加位置对应的元素（词）的编码\n",
    "            if random() < 0.8:  # 80%开始微操啦\n",
    "                input_ids[pos] = word2idx['[MASK]'] # make mask掩码\n",
    "            elif random() > 0.9:  # 10%\n",
    "                index = randint(0, vocab_size - 1) # random index in vocabulary随机索引\n",
    "                while index < 4: # can't involve 'CLS', 'SEP', 'PAD'不能是无意义的替换\n",
    "                  index = randint(0, vocab_size - 1)\n",
    "                input_ids[pos] = index # replace随机替换一个词\n",
    "\n",
    "        # Zero Paddings\n",
    "        n_pad = maxlen - len(input_ids)# 要填充的，不够的填0\n",
    "        input_ids.extend([0] * n_pad)\n",
    "        segment_ids.extend([0] * n_pad)\n",
    "\n",
    "        # Zero Padding (100% - 15%) tokens\n",
    "        if max_pred > n_pred:# 分别填充\n",
    "            n_pad = max_pred - n_pred\n",
    "            masked_tokens.extend([0] * n_pad)\n",
    "            masked_pos.extend([0] * n_pad)\n",
    "\n",
    "        if tokens_a_index + 1 == tokens_b_index and positive < batch_size/2:# 如果两个句子原文连续，才有效\n",
    "            batch.append([input_ids, segment_ids, masked_tokens, masked_pos, True]) # IsNext，需要处理的数据\n",
    "            positive += 1\n",
    "        elif tokens_a_index + 1 != tokens_b_index and negative < batch_size/2:# 两个句子原文不连续，那就废了\n",
    "            batch.append([input_ids, segment_ids, masked_tokens, masked_pos, False]) # NotNext，无需处理的数据\n",
    "            negative += 1\n",
    "    return batch\n",
    "# Proprecessing Finished\n",
    "# input_ids掩码加下一句标记结果\n",
    "# segment_ids用于区分两句话\n",
    "# masked_tokens每次处理一个位置对应的词编码\n",
    "# masked_pos每次一个处理的词的位置\n",
    "# isNext是否处理\n",
    "# 上述这些参数都是对应的累积，即每随机抽的两个句子都有对应的这些参数\n",
    "# 这样batch就是所有的每一次处理结果\n",
    "\n",
    "batch = make_data()# 返回这样一个batch，进行了两个预训练任务的输入操作\n",
    "input_ids, segment_ids, masked_tokens, masked_pos, isNext = zip(*batch)# 解包赋值\n",
    "input_ids, segment_ids, masked_tokens, masked_pos, isNext = \\\n",
    "    torch.LongTensor(input_ids),  torch.LongTensor(segment_ids), torch.LongTensor(masked_tokens),\\\n",
    "    torch.LongTensor(masked_pos), torch.LongTensor(isNext)\n",
    "# 这一行代码的功能是将 input_ids, segment_ids, masked_tokens, masked_pos, 和 isNext 五个 Python 数据结构（如列表、NumPy 数组等）转换为 PyTorch 的 LongTensor 类型的张量。\n",
    "class MyDataSet(Data.Dataset):\n",
    "  def __init__(self, input_ids, segment_ids, masked_tokens, masked_pos, isNext):# 构造函数没得说\n",
    "    self.input_ids = input_ids\n",
    "    self.segment_ids = segment_ids\n",
    "    self.masked_tokens = masked_tokens\n",
    "    self.masked_pos = masked_pos\n",
    "    self.isNext = isNext\n",
    "\n",
    "  def __len__(self):# 返回长度\n",
    "    return len(self.input_ids)\n",
    "\n",
    "  def __getitem__(self, idx):# 返回每一行数据\n",
    "    return self.input_ids[idx], self.segment_ids[idx], self.masked_tokens[idx], self.masked_pos[idx], self.isNext[idx]\n",
    "\n",
    "loader = Data.DataLoader(MyDataSet(input_ids, segment_ids, masked_tokens, masked_pos, isNext), batch_size, True)# 创建数据集\n",
    "# 输出看一下\n",
    "for batch in loader:\n",
    "    print(\"Input IDs:\", batch[0])\n",
    "    print(\"Segment IDs:\", batch[1])\n",
    "    print(\"Masked Tokens:\", batch[2])\n",
    "    print(\"Masked Positions:\", batch[3])\n",
    "    print(\"Is Next:\", batch[4])\n",
    "    print(\"---------------\")"
   ],
   "id": "738e950cbb809e86",
   "outputs": [
    {
     "name": "stdout",
     "output_type": "stream",
     "text": [
      "Input IDs: tensor([[ 1, 10, 21, 35,  9, 13, 22, 37, 12, 39, 32,  2, 31, 32, 21,  2,  0,  0,\n",
      "          0,  0,  0,  0,  0,  0,  0,  0,  0,  0,  0,  0],\n",
      "        [ 1,  3,  7, 14, 32, 38, 29, 21,  2, 10, 21, 35,  9,  3, 22, 37, 12, 39,\n",
      "         32,  2,  0,  0,  0,  0,  0,  0,  0,  0,  0,  0],\n",
      "        [ 1,  8, 14, 32, 27, 30,  2, 38, 29,  3, 18,  6, 20, 32,  2,  0,  0,  0,\n",
      "          0,  0,  0,  0,  0,  0,  0,  0,  0,  0,  0,  0],\n",
      "        [ 1, 10,  7,  3, 32, 38, 29, 21,  2, 10, 21,  3,  9,  3, 22, 37, 12, 39,\n",
      "         32,  2,  0,  0,  0,  0,  0,  0,  0,  0,  0,  0],\n",
      "        [ 1, 19, 36, 22,  2, 37, 39, 32,  5,  3, 14, 32, 30,  2,  0,  0,  0,  0,\n",
      "          0,  0,  0,  0,  0,  0,  0,  0,  0,  0,  0,  0],\n",
      "        [ 1, 19, 36, 22,  2, 38, 29, 27, 12, 28, 35, 34, 24, 13, 23,  3,  3,  2,\n",
      "          0,  0,  0,  0,  0,  0,  0,  0,  0,  0,  0,  0]])\n",
      "Segment IDs: tensor([[0, 0, 0, 0, 0, 0, 0, 0, 0, 0, 0, 0, 1, 1, 1, 1, 0, 0, 0, 0, 0, 0, 0, 0,\n",
      "         0, 0, 0, 0, 0, 0],\n",
      "        [0, 0, 0, 0, 0, 0, 0, 0, 0, 1, 1, 1, 1, 1, 1, 1, 1, 1, 1, 1, 0, 0, 0, 0,\n",
      "         0, 0, 0, 0, 0, 0],\n",
      "        [0, 0, 0, 0, 0, 0, 0, 1, 1, 1, 1, 1, 1, 1, 1, 0, 0, 0, 0, 0, 0, 0, 0, 0,\n",
      "         0, 0, 0, 0, 0, 0],\n",
      "        [0, 0, 0, 0, 0, 0, 0, 0, 0, 1, 1, 1, 1, 1, 1, 1, 1, 1, 1, 1, 0, 0, 0, 0,\n",
      "         0, 0, 0, 0, 0, 0],\n",
      "        [0, 0, 0, 0, 0, 1, 1, 1, 1, 1, 1, 1, 1, 1, 0, 0, 0, 0, 0, 0, 0, 0, 0, 0,\n",
      "         0, 0, 0, 0, 0, 0],\n",
      "        [0, 0, 0, 0, 0, 1, 1, 1, 1, 1, 1, 1, 1, 1, 1, 1, 1, 1, 0, 0, 0, 0, 0, 0,\n",
      "         0, 0, 0, 0, 0, 0]])\n",
      "Masked Tokens: tensor([[32, 12,  0,  0,  0],\n",
      "        [13, 10, 38,  0,  0],\n",
      "        [27, 27,  0,  0,  0],\n",
      "        [13, 35, 14,  0,  0],\n",
      "        [ 7, 39,  0,  0,  0],\n",
      "        [25, 17,  0,  0,  0]])\n",
      "Masked Positions: tensor([[13,  8,  0,  0,  0],\n",
      "        [13,  1,  5,  0,  0],\n",
      "        [ 9,  4,  0,  0,  0],\n",
      "        [13, 11,  3,  0,  0],\n",
      "        [ 9,  6,  0,  0,  0],\n",
      "        [15, 16,  0,  0,  0]])\n",
      "Is Next: tensor([0, 1, 1, 1, 0, 0])\n",
      "---------------\n"
     ]
    }
   ],
   "execution_count": 6
  },
  {
   "metadata": {},
   "cell_type": "markdown",
   "source": [
    "# 4.模型构建\n",
    "主要是Transformer的Encoder结构"
   ],
   "id": "14f7d31be698fe3a"
  },
  {
   "metadata": {
    "ExecuteTime": {
     "end_time": "2025-03-19T13:56:14.420440Z",
     "start_time": "2025-03-19T13:56:13.412407Z"
    }
   },
   "cell_type": "code",
   "source": [
    "def get_attn_pad_mask(seq_q, seq_k):\n",
    "    batch_size, seq_len = seq_q.size()\n",
    "    # eq(zero) is PAD token\n",
    "    pad_attn_mask = seq_q.data.eq(0).unsqueeze(1)  # [batch_size, 1, seq_len]\n",
    "    return pad_attn_mask.expand(batch_size, seq_len, seq_len)  # [batch_size, seq_len, seq_len]\n",
    "\n",
    "def gelu(x):# 激活函数\n",
    "    \"\"\"\n",
    "      Implementation of the gelu activation function.\n",
    "      For information: OpenAI GPT's gelu is slightly different (and gives slightly different results):\n",
    "      0.5 * x * (1 + torch.tanh(math.sqrt(2 / math.pi) * (x + 0.044715 * torch.pow(x, 3))))\n",
    "      Also see https://arxiv.org/abs/1606.08415\n",
    "    \"\"\"\n",
    "    return x * 0.5 * (1.0 + torch.erf(x / math.sqrt(2.0)))\n",
    "\n",
    "class Embedding(nn.Module):# 编码\n",
    "    def __init__(self):\n",
    "        super(Embedding, self).__init__()\n",
    "        self.tok_embed = nn.Embedding(vocab_size, d_model)  # token embedding\n",
    "        self.pos_embed = nn.Embedding(maxlen, d_model)  # position embedding\n",
    "        self.seg_embed = nn.Embedding(n_segments, d_model)  # segment(token type) embedding\n",
    "        self.norm = nn.LayerNorm(d_model)\n",
    "\n",
    "    def forward(self, x, seg):\n",
    "        seq_len = x.size(1)\n",
    "        pos = torch.arange(seq_len, dtype=torch.long)\n",
    "        pos = pos.unsqueeze(0).expand_as(x)  # [seq_len] -> [batch_size, seq_len]\n",
    "        embedding = self.tok_embed(x) + self.pos_embed(pos) + self.seg_embed(seg)\n",
    "        return self.norm(embedding)# 三个编码学习相加\n",
    "\n",
    "class ScaledDotProductAttention(nn.Module):\n",
    "    def __init__(self):\n",
    "        super(ScaledDotProductAttention, self).__init__()\n",
    "\n",
    "    def forward(self, Q, K, V, attn_mask):\n",
    "        scores = torch.matmul(Q, K.transpose(-1, -2)) / np.sqrt(d_k) # scores : [batch_size, n_heads, seq_len, seq_len]注意力公式\n",
    "        scores.masked_fill_(attn_mask, -1e9) # Fills elements of self tensor with value where mask is one.\n",
    "        attn = nn.Softmax(dim=-1)(scores)# 归一化\n",
    "        context = torch.matmul(attn, V)\n",
    "        return context\n",
    "\n",
    "class MultiHeadAttention(nn.Module):# 多头注意力\n",
    "    def __init__(self):\n",
    "        super(MultiHeadAttention, self).__init__()\n",
    "        self.W_Q = nn.Linear(d_model, d_k * n_heads)\n",
    "        self.W_K = nn.Linear(d_model, d_k * n_heads)\n",
    "        self.W_V = nn.Linear(d_model, d_v * n_heads)\n",
    "    def forward(self, Q, K, V, attn_mask):\n",
    "        # q: [batch_size, seq_len, d_model], k: [batch_size, seq_len, d_model], v: [batch_size, seq_len, d_model]\n",
    "        residual, batch_size = Q, Q.size(0)\n",
    "        # (B, S, D) -proj-> (B, S, D) -split-> (B, S, H, W) -trans-> (B, H, S, W)\n",
    "        q_s = self.W_Q(Q).view(batch_size, -1, n_heads, d_k).transpose(1,2)  # q_s: [batch_size, n_heads, seq_len, d_k]\n",
    "        k_s = self.W_K(K).view(batch_size, -1, n_heads, d_k).transpose(1,2)  # k_s: [batch_size, n_heads, seq_len, d_k]\n",
    "        v_s = self.W_V(V).view(batch_size, -1, n_heads, d_v).transpose(1,2)  # v_s: [batch_size, n_heads, seq_len, d_v]\n",
    "\n",
    "        attn_mask = attn_mask.unsqueeze(1).repeat(1, n_heads, 1, 1) # attn_mask : [batch_size, n_heads, seq_len, seq_len]\n",
    "\n",
    "        # context: [batch_size, n_heads, seq_len, d_v], attn: [batch_size, n_heads, seq_len, seq_len]\n",
    "        context = ScaledDotProductAttention()(q_s, k_s, v_s, attn_mask)\n",
    "        context = context.transpose(1, 2).contiguous().view(batch_size, -1, n_heads * d_v) # context: [batch_size, seq_len, n_heads * d_v]\n",
    "        output = nn.Linear(n_heads * d_v, d_model)(context)\n",
    "        return nn.LayerNorm(d_model)(output + residual) # output: [batch_size, seq_len, d_model]\n",
    "\n",
    "class PoswiseFeedForwardNet(nn.Module):\n",
    "    def __init__(self):\n",
    "        super(PoswiseFeedForwardNet, self).__init__()\n",
    "        self.fc1 = nn.Linear(d_model, d_ff)\n",
    "        self.fc2 = nn.Linear(d_ff, d_model)\n",
    "\n",
    "    def forward(self, x):\n",
    "        # (batch_size, seq_len, d_model) -> (batch_size, seq_len, d_ff) -> (batch_size, seq_len, d_model)\n",
    "        return self.fc2(gelu(self.fc1(x)))# 激活函数\n",
    "\n",
    "class EncoderLayer(nn.Module):\n",
    "    def __init__(self):\n",
    "        super(EncoderLayer, self).__init__()\n",
    "        self.enc_self_attn = MultiHeadAttention()\n",
    "        self.pos_ffn = PoswiseFeedForwardNet()\n",
    "\n",
    "    def forward(self, enc_inputs, enc_self_attn_mask):\n",
    "        enc_outputs = self.enc_self_attn(enc_inputs, enc_inputs, enc_inputs, enc_self_attn_mask) # enc_inputs to same Q,K,V\n",
    "        enc_outputs = self.pos_ffn(enc_outputs) # enc_outputs: [batch_size, seq_len, d_model]\n",
    "        return enc_outputs\n",
    "\n",
    "class BERT(nn.Module):\n",
    "    def __init__(self):# 构造函数，一些初始化配置\n",
    "        super(BERT, self).__init__()\n",
    "        self.embedding = Embedding()\n",
    "        self.layers = nn.ModuleList([EncoderLayer() for _ in range(n_layers)])# Encoder layer\n",
    "        self.fc = nn.Sequential(\n",
    "            nn.Linear(d_model, d_model),\n",
    "            nn.Dropout(0.5),\n",
    "            nn.Tanh(),\n",
    "        )# 这段代码是一个前馈神经网络模块，由全连接层、Dropout 层和 Tanh 激活函数层组成\n",
    "        self.classifier = nn.Linear(d_model, 2)# 二分类\n",
    "        self.linear = nn.Linear(d_model, d_model)\n",
    "        self.activ2 = gelu\n",
    "        # fc2 is shared with embedding layer\n",
    "        embed_weight = self.embedding.tok_embed.weight\n",
    "        self.fc2 = nn.Linear(d_model, vocab_size, bias=False)\n",
    "        self.fc2.weight = embed_weight\n",
    "\n",
    "    def forward(self, input_ids, segment_ids, masked_pos):\n",
    "        output = self.embedding(input_ids, segment_ids) # [bach_size, seq_len, d_model]\n",
    "        enc_self_attn_mask = get_attn_pad_mask(input_ids, input_ids) # [batch_size, maxlen, maxlen]\n",
    "        for layer in self.layers:# 前一个输出是后一个输入\n",
    "            # output: [batch_size, max_len, d_model]\n",
    "            output = layer(output, enc_self_attn_mask)\n",
    "        # it will be decided by first token(CLS)\n",
    "        h_pooled = self.fc(output[:, 0]) # [batch_size, d_model]进一个线性层\n",
    "        logits_clsf = self.classifier(h_pooled) # [batch_size, 2] predict isNext\n",
    "\n",
    "        masked_pos = masked_pos[:, :, None].expand(-1, -1, d_model) # [batch_size, max_pred, d_model]\n",
    "        h_masked = torch.gather(output, 1, masked_pos) # masking position [batch_size, max_pred, d_model]将掩码结果收集在一起\n",
    "        h_masked = self.activ2(self.linear(h_masked)) # [batch_size, max_pred, d_model]掩码任务输出\n",
    "        logits_lm = self.fc2(h_masked) # [batch_size, max_pred, vocab_size]两个句子是否为一句话的预测\n",
    "        return logits_lm, logits_clsf\n",
    "model = BERT()\n",
    "criterion = nn.CrossEntropyLoss()\n",
    "optimizer = optim.Adadelta(model.parameters(), lr=0.001)# 梯度下降"
   ],
   "id": "6d0424dd1a988384",
   "outputs": [],
   "execution_count": 7
  },
  {
   "metadata": {},
   "cell_type": "markdown",
   "source": "# 模型训练",
   "id": "de4e961f00a45186"
  },
  {
   "metadata": {
    "ExecuteTime": {
     "end_time": "2025-03-19T13:56:56.449279Z",
     "start_time": "2025-03-19T13:56:19.950927Z"
    }
   },
   "cell_type": "code",
   "source": [
    "for epoch in range(180):\n",
    "    for input_ids, segment_ids, masked_tokens, masked_pos, isNext in loader:\n",
    "      logits_lm, logits_clsf = model(input_ids, segment_ids, masked_pos)\n",
    "      loss_lm = criterion(logits_lm.view(-1, vocab_size), masked_tokens.view(-1)) # for masked LM\n",
    "      loss_lm = (loss_lm.float()).mean()\n",
    "      loss_clsf = criterion(logits_clsf, isNext) # for sentence classification\n",
    "      loss = loss_lm + loss_clsf# 两个预训练任务的损失和\n",
    "      if (epoch + 1) % 10 == 0:\n",
    "          print('Epoch:', '%04d' % (epoch + 1), 'loss =', '{:.6f}'.format(loss))\n",
    "      optimizer.zero_grad()\n",
    "      loss.backward()\n",
    "      optimizer.step()"
   ],
   "id": "21f81d5ee00f140d",
   "outputs": [
    {
     "name": "stdout",
     "output_type": "stream",
     "text": [
      "Epoch: 0010 loss = 1.800519\n",
      "Epoch: 0020 loss = 1.053355\n",
      "Epoch: 0030 loss = 0.829274\n",
      "Epoch: 0040 loss = 0.793613\n",
      "Epoch: 0050 loss = 0.813628\n",
      "Epoch: 0060 loss = 0.757033\n",
      "Epoch: 0070 loss = 0.781994\n",
      "Epoch: 0080 loss = 0.755440\n",
      "Epoch: 0090 loss = 0.779933\n",
      "Epoch: 0100 loss = 0.765899\n",
      "Epoch: 0110 loss = 0.749583\n",
      "Epoch: 0120 loss = 0.761493\n",
      "Epoch: 0130 loss = 0.769707\n",
      "Epoch: 0140 loss = 0.801867\n",
      "Epoch: 0150 loss = 0.731075\n",
      "Epoch: 0160 loss = 0.749771\n",
      "Epoch: 0170 loss = 0.715138\n",
      "Epoch: 0180 loss = 0.788864\n"
     ]
    }
   ],
   "execution_count": 8
  },
  {
   "metadata": {},
   "cell_type": "markdown",
   "source": "# 测试",
   "id": "696c8130512c504c"
  },
  {
   "metadata": {
    "ExecuteTime": {
     "end_time": "2025-03-19T13:57:06.560417Z",
     "start_time": "2025-03-19T13:57:06.448582Z"
    }
   },
   "cell_type": "code",
   "source": [
    "input_ids, segment_ids, masked_tokens, masked_pos, isNext = batch[1]\n",
    "print(text)\n",
    "print('================================')\n",
    "print([idx2word[w] for w in input_ids if idx2word[w] != '[PAD]'])\n",
    "\n",
    "logits_lm, logits_clsf = model(torch.LongTensor([input_ids]), \\\n",
    "                 torch.LongTensor([segment_ids]), torch.LongTensor([masked_pos]))\n",
    "logits_lm = logits_lm.data.max(2)[1][0].data.numpy()\n",
    "print('masked tokens list : ',[pos for pos in masked_tokens if pos != 0])\n",
    "print('predict masked tokens list : ',[pos for pos in logits_lm if pos != 0])\n",
    "\n",
    "logits_clsf = logits_clsf.data.max(1)[1].data.numpy()[0]\n",
    "print('isNext : ', True if isNext else False)\n",
    "print('predict isNext : ',True if logits_clsf else False)"
   ],
   "id": "df1f87af5d6c946f",
   "outputs": [
    {
     "ename": "ValueError",
     "evalue": "too many values to unpack (expected 5)",
     "output_type": "error",
     "traceback": [
      "\u001B[31m---------------------------------------------------------------------------\u001B[39m",
      "\u001B[31mValueError\u001B[39m                                Traceback (most recent call last)",
      "\u001B[36mCell\u001B[39m\u001B[36m \u001B[39m\u001B[32mIn[9]\u001B[39m\u001B[32m, line 1\u001B[39m\n\u001B[32m----> \u001B[39m\u001B[32m1\u001B[39m input_ids, segment_ids, masked_tokens, masked_pos, isNext = batch[\u001B[32m1\u001B[39m]\n\u001B[32m      2\u001B[39m \u001B[38;5;28mprint\u001B[39m(text)\n\u001B[32m      3\u001B[39m \u001B[38;5;28mprint\u001B[39m(\u001B[33m'\u001B[39m\u001B[33m================================\u001B[39m\u001B[33m'\u001B[39m)\n",
      "\u001B[31mValueError\u001B[39m: too many values to unpack (expected 5)"
     ]
    }
   ],
   "execution_count": 9
  },
  {
   "metadata": {},
   "cell_type": "markdown",
   "source": "总体是做了两个预训练任务，让模型能够很好的进行填空以及对两个句子进行是否连续的分析，具有很强的泛用性，可以用在各种下游任务中",
   "id": "dbe3156c86c6f755"
  }
 ],
 "metadata": {
  "kernelspec": {
   "display_name": "Python 3",
   "language": "python",
   "name": "python3"
  },
  "language_info": {
   "codemirror_mode": {
    "name": "ipython",
    "version": 2
   },
   "file_extension": ".py",
   "mimetype": "text/x-python",
   "name": "python",
   "nbconvert_exporter": "python",
   "pygments_lexer": "ipython2",
   "version": "2.7.6"
  }
 },
 "nbformat": 4,
 "nbformat_minor": 5
}
